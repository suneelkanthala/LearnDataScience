{
  "nbformat": 4,
  "nbformat_minor": 0,
  "metadata": {
    "colab": {
      "name": "U1W2_03_Numpy_Exercise.ipynb",
      "provenance": [],
      "collapsed_sections": [],
      "include_colab_link": true
    },
    "kernelspec": {
      "name": "python3",
      "display_name": "Python 3"
    }
  },
  "cells": [
    {
      "cell_type": "markdown",
      "metadata": {
        "id": "view-in-github",
        "colab_type": "text"
      },
      "source": [
        "<a href=\"https://colab.research.google.com/github/suneelkanthala/LearnDataScience/blob/master/U1W2_03_Numpy_Exercise.ipynb\" target=\"_parent\"><img src=\"https://colab.research.google.com/assets/colab-badge.svg\" alt=\"Open In Colab\"/></a>"
      ]
    },
    {
      "cell_type": "markdown",
      "metadata": {
        "id": "laYtdRUzKQxf"
      },
      "source": [
        "# Advanced Certification in AIML\n",
        "## A Program by IIIT-H and TalentSprint"
      ]
    },
    {
      "cell_type": "markdown",
      "metadata": {
        "id": "vNmcxqppKTHH"
      },
      "source": [
        "## Objective :\n",
        "\n",
        "At the end of this experiment, you will be able to :\n",
        "\n",
        "* Use Numpy Library"
      ]
    },
    {
      "cell_type": "markdown",
      "metadata": {
        "id": "FhA-4D7SrIpo"
      },
      "source": [
        "## Setup Steps"
      ]
    },
    {
      "cell_type": "code",
      "metadata": {
        "id": "DrAZGKNorOH8"
      },
      "source": [
        "#@title Please enter your registration id to start: { run: \"auto\", display-mode: \"form\" }\n",
        "Id = \"2100030\" #@param {type:\"string\"}\n"
      ],
      "execution_count": null,
      "outputs": []
    },
    {
      "cell_type": "code",
      "metadata": {
        "id": "XLpBVa3MrRPn"
      },
      "source": [
        "#@title Please enter your password (normally your phone number) to continue: { run: \"auto\", display-mode: \"form\" }\n",
        "password = \"7674933144\" #@param {type:\"string\"}\n"
      ],
      "execution_count": null,
      "outputs": []
    },
    {
      "cell_type": "code",
      "metadata": {
        "id": "WBPPuGmBlDIN",
        "cellView": "form",
        "colab": {
          "base_uri": "https://localhost:8080/",
          "height": 34
        },
        "outputId": "1effb706-b681-45b0-cd1c-618a0a61c8ed"
      },
      "source": [
        "#@title Run this cell to complete the setup for this Notebook\n",
        "from IPython import get_ipython\n",
        "\n",
        "ipython = get_ipython()\n",
        "  \n",
        "notebook= \"U1W2_03_Numpy_Exercise\" #name of the notebook\n",
        "Answer = \"Ungraded\"\n",
        "def setup():\n",
        "#  ipython.magic(\"sx pip3 install torch\")\n",
        "    from IPython.display import HTML, display\n",
        "    display(HTML('<script src=\"https://dashboard.talentsprint.com/aiml/record_ip.html?traineeId={0}&recordId={1}\"></script>'.format(getId(),submission_id)))\n",
        "    print(\"Setup completed successfully\")\n",
        "    return\n",
        "\n",
        "def submit_notebook():\n",
        "    \n",
        "    ipython.magic(\"notebook -e \"+ notebook + \".ipynb\")\n",
        "    \n",
        "    import requests, json, base64, datetime\n",
        "\n",
        "    url = \"https://dashboard.talentsprint.com/xp/app/save_notebook_attempts\"\n",
        "    if not submission_id:\n",
        "      data = {\"id\" : getId(), \"notebook\" : notebook, \"mobile\" : getPassword()}\n",
        "      r = requests.post(url, data = data)\n",
        "      r = json.loads(r.text)\n",
        "\n",
        "      if r[\"status\"] == \"Success\":\n",
        "          return r[\"record_id\"]\n",
        "      elif \"err\" in r:        \n",
        "        print(r[\"err\"])\n",
        "        return None        \n",
        "      else:\n",
        "        print (\"Something is wrong, the notebook will not be submitted for grading\")\n",
        "        return None\n",
        "\n",
        "    elif getAnswer() and getComplexity() and getAdditional() and getConcepts():\n",
        "      f = open(notebook + \".ipynb\", \"rb\")\n",
        "      file_hash = base64.b64encode(f.read())\n",
        "\n",
        "      data = {\"complexity\" : Complexity, \"additional\" :Additional, \n",
        "              \"concepts\" : Concepts, \"record_id\" : submission_id, \n",
        "              \"answer\" : Answer, \"id\" : Id, \"file_hash\" : file_hash,\n",
        "              \"notebook\" : notebook}\n",
        "\n",
        "      r = requests.post(url, data = data)\n",
        "      r = json.loads(r.text)\n",
        "      print(\"Your submission is successful.\")\n",
        "      print(\"Ref Id:\", submission_id)\n",
        "      print(\"Date of submission: \", r[\"date\"])\n",
        "      print(\"Time of submission: \", r[\"time\"])\n",
        "      print(\"View your submissions: https://iiith-aiml.talentsprint.com/notebook_submissions\")\n",
        "     # print(\"For any queries/discrepancies, please connect with mentors through the chat icon in LMS dashboard.\")\n",
        "      return submission_id\n",
        "    else: submission_id\n",
        "    \n",
        "\n",
        "def getAdditional():\n",
        "  try:\n",
        "    if not Additional: \n",
        "      raise NameError\n",
        "    else:\n",
        "      return Additional  \n",
        "  except NameError:\n",
        "    print (\"Please answer Additional Question\")\n",
        "    return None\n",
        "\n",
        "def getComplexity():\n",
        "  try:\n",
        "    if not Complexity:\n",
        "      raise NameError\n",
        "    else:\n",
        "      return Complexity\n",
        "  except NameError:\n",
        "    print (\"Please answer Complexity Question\")\n",
        "    return None\n",
        "  \n",
        "def getConcepts():\n",
        "  try:\n",
        "    if not Concepts:\n",
        "      raise NameError\n",
        "    else:\n",
        "      return Concepts\n",
        "  except NameError:\n",
        "    print (\"Please answer Concepts Question\")\n",
        "    return None\n",
        "\n",
        "def getAnswer():\n",
        "  try:\n",
        "    if not Answer:\n",
        "      raise NameError \n",
        "    else: \n",
        "      return Answer\n",
        "  except NameError:\n",
        "    print (\"Please answer Question\")\n",
        "    return None\n",
        "\n",
        "def getId():\n",
        "  try: \n",
        "    return Id if Id else None\n",
        "  except NameError:\n",
        "    return None\n",
        "\n",
        "def getPassword():\n",
        "  try:\n",
        "    return password if password else None\n",
        "  except NameError:\n",
        "    return None\n",
        "\n",
        "submission_id = None\n",
        "### Setup \n",
        "if getPassword() and getId():\n",
        "  submission_id = submit_notebook()\n",
        "  if submission_id:\n",
        "    setup()\n",
        "    \n",
        "else:\n",
        "  print (\"Please complete Id and Password cells before running setup\")\n"
      ],
      "execution_count": null,
      "outputs": [
        {
          "output_type": "display_data",
          "data": {
            "text/html": [
              "<script src=\"https://dashboard.talentsprint.com/aiml/record_ip.html?traineeId=2100030&recordId=581\"></script>"
            ],
            "text/plain": [
              "<IPython.core.display.HTML object>"
            ]
          },
          "metadata": {
            "tags": []
          }
        },
        {
          "output_type": "stream",
          "text": [
            "Setup completed successfully\n"
          ],
          "name": "stdout"
        }
      ]
    },
    {
      "cell_type": "markdown",
      "metadata": {
        "id": "bFXr9Jw6thml"
      },
      "source": [
        "### 1. Import the numpy package under the name np\n",
        "\n",
        "hint: import … as"
      ]
    },
    {
      "cell_type": "code",
      "metadata": {
        "id": "IDOY6ZMvqLo8"
      },
      "source": [
        "# YOUR CODE HERE\n",
        "import numpy as np"
      ],
      "execution_count": null,
      "outputs": []
    },
    {
      "cell_type": "markdown",
      "metadata": {
        "id": "RK7s0EsTtnal"
      },
      "source": [
        "### 2. Print the numpy version and the configuration\n",
        "\n",
        "hint: np.__version__, np.show_config"
      ]
    },
    {
      "cell_type": "code",
      "metadata": {
        "id": "JBcycyWLue6Z",
        "colab": {
          "base_uri": "https://localhost:8080/",
          "height": 51
        },
        "outputId": "04e19e08-402e-4f05-abfa-df463f2bb705"
      },
      "source": [
        "# YOUR CODE HERE\n",
        "print(np.version)\n",
        "print(np.show_config)"
      ],
      "execution_count": null,
      "outputs": [
        {
          "output_type": "stream",
          "text": [
            "<module 'numpy.version' from '/usr/local/lib/python3.6/dist-packages/numpy/version.py'>\n",
            "<function show at 0x7f36a0b561e0>\n"
          ],
          "name": "stdout"
        }
      ]
    },
    {
      "cell_type": "markdown",
      "metadata": {
        "id": "AeoNP5Cwughg"
      },
      "source": [
        "### 3. Create a null vector of size 10\n",
        "\n",
        "hint: np.zeros"
      ]
    },
    {
      "cell_type": "code",
      "metadata": {
        "id": "iWQ0iMpwuhWx",
        "colab": {
          "base_uri": "https://localhost:8080/",
          "height": 34
        },
        "outputId": "175cc9b1-d22e-4348-cdae-97d987d4f858"
      },
      "source": [
        "# YOUR CODE HERE\n",
        "zv = np.zeros(10)\n",
        "print(zv)"
      ],
      "execution_count": null,
      "outputs": [
        {
          "output_type": "stream",
          "text": [
            "[0. 0. 0. 0. 0. 0. 0. 0. 0. 0.]\n"
          ],
          "name": "stdout"
        }
      ]
    },
    {
      "cell_type": "markdown",
      "metadata": {
        "id": "EYZlaQv_vqms"
      },
      "source": [
        "### 4. Create a null vector of size 10 but the fifth value which is 1\n",
        "\n",
        "hint: array[4]"
      ]
    },
    {
      "cell_type": "code",
      "metadata": {
        "id": "n1fDc8ZxvtGS",
        "colab": {
          "base_uri": "https://localhost:8080/",
          "height": 34
        },
        "outputId": "46641aaf-189b-40ef-ed51-a97b273c757b"
      },
      "source": [
        "# YOUR CODE HERE\n",
        "v = np.zeros(10)\n",
        "v[4] = 1\n",
        "print(v)\n"
      ],
      "execution_count": null,
      "outputs": [
        {
          "output_type": "stream",
          "text": [
            "[0. 0. 0. 0. 1. 0. 0. 0. 0. 0.]\n"
          ],
          "name": "stdout"
        }
      ]
    },
    {
      "cell_type": "markdown",
      "metadata": {
        "id": "ka2AUzVQv804"
      },
      "source": [
        "### 5. Create a vector with values ranging from 10 to 49\n",
        "\n",
        "hint: arange"
      ]
    },
    {
      "cell_type": "code",
      "metadata": {
        "id": "ZNwL2Ub5vuYk",
        "colab": {
          "base_uri": "https://localhost:8080/",
          "height": 51
        },
        "outputId": "1c719700-88ad-4f7f-d2a5-e64ce16d96d8"
      },
      "source": [
        "# YOUR CODE HERE\n",
        "v1 = np.arange(10,50)\n",
        "print(v1)"
      ],
      "execution_count": null,
      "outputs": [
        {
          "output_type": "stream",
          "text": [
            "[10 11 12 13 14 15 16 17 18 19 20 21 22 23 24 25 26 27 28 29 30 31 32 33\n",
            " 34 35 36 37 38 39 40 41 42 43 44 45 46 47 48 49]\n"
          ],
          "name": "stdout"
        }
      ]
    },
    {
      "cell_type": "markdown",
      "metadata": {
        "id": "yAKm26J3wCgu"
      },
      "source": [
        "### 6. Reverse a vector (first element becomes last)\n",
        "\n",
        "hint: array[::-1]"
      ]
    },
    {
      "cell_type": "code",
      "metadata": {
        "id": "GOBhkidowD4c",
        "colab": {
          "base_uri": "https://localhost:8080/",
          "height": 51
        },
        "outputId": "46d58815-b03b-41b2-d096-55cd6c286d5c"
      },
      "source": [
        "# YOUR CODE HERE\n",
        "print(v1[::-1])"
      ],
      "execution_count": null,
      "outputs": [
        {
          "output_type": "stream",
          "text": [
            "[49 48 47 46 45 44 43 42 41 40 39 38 37 36 35 34 33 32 31 30 29 28 27 26\n",
            " 25 24 23 22 21 20 19 18 17 16 15 14 13 12 11 10]\n"
          ],
          "name": "stdout"
        }
      ]
    },
    {
      "cell_type": "markdown",
      "metadata": {
        "id": "Q_06mID8w4MW"
      },
      "source": [
        "### 7. Find indices of non-zero elements from [1,2,0,0,4,0]\n",
        "\n",
        "hint: np.nonzero"
      ]
    },
    {
      "cell_type": "code",
      "metadata": {
        "id": "y_iT1Dy0w7Gi",
        "colab": {
          "base_uri": "https://localhost:8080/",
          "height": 34
        },
        "outputId": "04b08cb7-5bc8-4b76-f2ac-e7b64a34c24a"
      },
      "source": [
        "# YOUR CODE HERE\n",
        "a = np.array([1,2,0,0,4,0])\n",
        "print(np.nonzero(a))"
      ],
      "execution_count": null,
      "outputs": [
        {
          "output_type": "stream",
          "text": [
            "(array([0, 1, 4]),)\n"
          ],
          "name": "stdout"
        }
      ]
    },
    {
      "cell_type": "markdown",
      "metadata": {
        "id": "nVfeZNX3wGNb"
      },
      "source": [
        "### 8. Create a 3x3 identity matrix\n",
        "\n",
        "hint: np.eye"
      ]
    },
    {
      "cell_type": "code",
      "metadata": {
        "id": "8k4ir6ahJYyO",
        "colab": {
          "base_uri": "https://localhost:8080/",
          "height": 68
        },
        "outputId": "3024f21c-a9cf-4999-9e3b-4e3ac9d42986"
      },
      "source": [
        "# YOUR CODE HERE\n",
        "i = np.eye(3,3)\n",
        "print(i)"
      ],
      "execution_count": null,
      "outputs": [
        {
          "output_type": "stream",
          "text": [
            "[[1. 0. 0.]\n",
            " [0. 1. 0.]\n",
            " [0. 0. 1.]]\n"
          ],
          "name": "stdout"
        }
      ]
    },
    {
      "cell_type": "markdown",
      "metadata": {
        "id": "TzHOcbSIxK6s"
      },
      "source": [
        "### 9. Create a 3x3x3 array with random values\n",
        "\n",
        "hint: np.random.random"
      ]
    },
    {
      "cell_type": "code",
      "metadata": {
        "id": "2ZbT4b3XJZeK",
        "colab": {
          "base_uri": "https://localhost:8080/",
          "height": 204
        },
        "outputId": "4733e32f-5f89-4933-bb7e-cb359a47a53a"
      },
      "source": [
        "# YOUR CODE HERE\n",
        "random = np.random.random((3,3,3))\n",
        "print(random)\n"
      ],
      "execution_count": null,
      "outputs": [
        {
          "output_type": "stream",
          "text": [
            "[[[0.77434554 0.32826524 0.78236665]\n",
            "  [0.21406338 0.28822293 0.23946165]\n",
            "  [0.07586395 0.8703562  0.83628124]]\n",
            "\n",
            " [[0.57265112 0.07776163 0.51690264]\n",
            "  [0.81426149 0.12644275 0.80835966]\n",
            "  [0.98803365 0.46374277 0.98161798]]\n",
            "\n",
            " [[0.10232978 0.71521224 0.10569878]\n",
            "  [0.29939839 0.61016985 0.02235068]\n",
            "  [0.48451091 0.49326644 0.94555915]]]\n"
          ],
          "name": "stdout"
        }
      ]
    },
    {
      "cell_type": "markdown",
      "metadata": {
        "id": "EgiUQA7QxUj2"
      },
      "source": [
        "### 10. Create a 10x10 array with random values and find the minimum and maximum values\n",
        "\n",
        "hint: min, max"
      ]
    },
    {
      "cell_type": "code",
      "metadata": {
        "id": "EX04NKRbJk2p",
        "colab": {
          "base_uri": "https://localhost:8080/",
          "height": 51
        },
        "outputId": "ae15d4cc-0dce-47e6-d0d5-715e12cc3eea"
      },
      "source": [
        "# YOUR CODE HERE\n",
        "r1 = np.random.random((10,10))\n",
        "print(np.min(r1))\n",
        "print(np.max(r1))"
      ],
      "execution_count": null,
      "outputs": [
        {
          "output_type": "stream",
          "text": [
            "0.004890774776773021\n",
            "0.9867330392978128\n"
          ],
          "name": "stdout"
        }
      ]
    },
    {
      "cell_type": "markdown",
      "metadata": {
        "id": "5dPx9hY7xYJP"
      },
      "source": [
        "### 11. Create a 5x5 matrix with values 1,2,3,4,5 just below the diagonal\n",
        "\n",
        "hint: np.diag"
      ]
    },
    {
      "cell_type": "code",
      "metadata": {
        "id": "t9_k8sooJmJZ",
        "colab": {
          "base_uri": "https://localhost:8080/",
          "height": 187
        },
        "outputId": "537fbdbb-ad89-485b-d155-71fad780bdc2"
      },
      "source": [
        "# YOUR CODE HERE\n",
        "x = np.diag([1, 2, 3, 4, 5])\n",
        "print(x)\n",
        "np.tril([[1,2,3,4,5],[1,2,3,4,5],[1,2,3,4,5],[1,2,3,4,5],[1,2,3,4,5]], -1)"
      ],
      "execution_count": null,
      "outputs": [
        {
          "output_type": "stream",
          "text": [
            "[[1 0 0 0 0]\n",
            " [0 2 0 0 0]\n",
            " [0 0 3 0 0]\n",
            " [0 0 0 4 0]\n",
            " [0 0 0 0 5]]\n"
          ],
          "name": "stdout"
        },
        {
          "output_type": "execute_result",
          "data": {
            "text/plain": [
              "array([[0, 0, 0, 0, 0],\n",
              "       [1, 0, 0, 0, 0],\n",
              "       [1, 2, 0, 0, 0],\n",
              "       [1, 2, 3, 0, 0],\n",
              "       [1, 2, 3, 4, 0]])"
            ]
          },
          "metadata": {
            "tags": []
          },
          "execution_count": 66
        }
      ]
    },
    {
      "cell_type": "markdown",
      "metadata": {
        "id": "dp5BRXlMx6Fu"
      },
      "source": [
        "### 12. Matrix multiplication for 1-D array. \n",
        "\n",
        "To multiply the matrix a and b,\n",
        "hint: np.dot"
      ]
    },
    {
      "cell_type": "code",
      "metadata": {
        "id": "Q7F6olHUEfYT",
        "colab": {
          "base_uri": "https://localhost:8080/",
          "height": 51
        },
        "outputId": "27ae085a-3007-402e-9cdd-c518e0be5ad5"
      },
      "source": [
        "import numpy as np\n",
        "\n",
        "a = np.array([9, 5, 7, 4])\n",
        "b = np.array([9, 5, 4, 3])\n",
        "\n",
        "# YOUR CODE HERE\n",
        "print(np.dot(a,b))\n",
        "print(np.multiply(a,b))"
      ],
      "execution_count": null,
      "outputs": [
        {
          "output_type": "stream",
          "text": [
            "146\n",
            "[81 25 28 12]\n"
          ],
          "name": "stdout"
        }
      ]
    },
    {
      "cell_type": "markdown",
      "metadata": {
        "id": "SX8sdd86Jrzy"
      },
      "source": [
        "## 13. Matrix multiplication for 2-D array.\n",
        "\n",
        "To multiply the matrix a and b, \n",
        "hint: np.dot"
      ]
    },
    {
      "cell_type": "code",
      "metadata": {
        "id": "zbHaeJcLERQG",
        "colab": {
          "base_uri": "https://localhost:8080/",
          "height": 51
        },
        "outputId": "367f96cb-e51a-4a96-c2cc-a10e98ce5cdf"
      },
      "source": [
        "a = np.array([[1, 0],\n",
        "             [0, 1]])\n",
        "\n",
        "b = np.array([[4, 1],\n",
        "              [2, 2]])\n",
        "\n",
        "\n",
        "# YOUR CODE HERE\n",
        "np.dot(a,b)"
      ],
      "execution_count": null,
      "outputs": [
        {
          "output_type": "execute_result",
          "data": {
            "text/plain": [
              "array([[4, 1],\n",
              "       [2, 2]])"
            ]
          },
          "metadata": {
            "tags": []
          },
          "execution_count": 70
        }
      ]
    },
    {
      "cell_type": "markdown",
      "metadata": {
        "id": "MbR5BjJLKte-"
      },
      "source": [
        "### 14. Transpose the given array [[ 1, 2, 3],[ 4, 5, 6],[ 7, 8, 9],[10, 11, 12]]\n",
        "Hint :: np.transpose()"
      ]
    },
    {
      "cell_type": "code",
      "metadata": {
        "id": "L5h9uKpzKx1o",
        "colab": {
          "base_uri": "https://localhost:8080/",
          "height": 68
        },
        "outputId": "5be9677a-1f82-44ec-ea5c-3f520409bc14"
      },
      "source": [
        "# YOUR CODE HERE\n",
        "a = np.array([[ 1, 2, 3],[ 4, 5, 6],[ 7, 8, 9],[10, 11, 12]])\n",
        "np.transpose(a)"
      ],
      "execution_count": null,
      "outputs": [
        {
          "output_type": "execute_result",
          "data": {
            "text/plain": [
              "array([[ 1,  4,  7, 10],\n",
              "       [ 2,  5,  8, 11],\n",
              "       [ 3,  6,  9, 12]])"
            ]
          },
          "metadata": {
            "tags": []
          },
          "execution_count": 55
        }
      ]
    },
    {
      "cell_type": "markdown",
      "metadata": {
        "id": "TqTdqi0qLPzM"
      },
      "source": [
        "###15. Inverse the given array [[3,4],[5,6]]\n",
        "Hint:: np.linalg.inv()"
      ]
    },
    {
      "cell_type": "code",
      "metadata": {
        "id": "YevrEXCILv2u",
        "colab": {
          "base_uri": "https://localhost:8080/",
          "height": 51
        },
        "outputId": "f3955a62-a8bd-40ec-f114-084c15f15929"
      },
      "source": [
        "# YOUR CODE HERE\n",
        "a = np.array([[3,4],[5,6]])\n",
        "np.linalg.inv(a)"
      ],
      "execution_count": null,
      "outputs": [
        {
          "output_type": "execute_result",
          "data": {
            "text/plain": [
              "array([[-3. ,  2. ],\n",
              "       [ 2.5, -1.5]])"
            ]
          },
          "metadata": {
            "tags": []
          },
          "execution_count": 56
        }
      ]
    },
    {
      "cell_type": "markdown",
      "metadata": {
        "id": "-xAt-FKUM7eF"
      },
      "source": [
        "###16. Concatenate two numpy arrays by columnwise  by specifying axis 1\n",
        "Hint::np.concatenate()"
      ]
    },
    {
      "cell_type": "code",
      "metadata": {
        "id": "b8KKeA8HNHWE",
        "colab": {
          "base_uri": "https://localhost:8080/",
          "height": 85
        },
        "outputId": "d78b9972-947b-410c-c74d-4019b3a6c19c"
      },
      "source": [
        "c =np.array([[1,2],[3,4]])\n",
        "d =np.array([[5,6],[7,8]])\n",
        "\n",
        "# YOUR CODE HERE\n",
        "np.concatenate((c,d), axis=0)"
      ],
      "execution_count": null,
      "outputs": [
        {
          "output_type": "execute_result",
          "data": {
            "text/plain": [
              "array([[1, 2],\n",
              "       [3, 4],\n",
              "       [5, 6],\n",
              "       [7, 8]])"
            ]
          },
          "metadata": {
            "tags": []
          },
          "execution_count": 57
        }
      ]
    },
    {
      "cell_type": "markdown",
      "metadata": {
        "id": "Rbt3-28YOKIl"
      },
      "source": [
        "###17. For Given a Multidimensional array print second and third column\n"
      ]
    },
    {
      "cell_type": "code",
      "metadata": {
        "id": "6hJct3wLQMzL",
        "colab": {
          "base_uri": "https://localhost:8080/",
          "height": 68
        },
        "outputId": "76300af7-4568-46da-99ef-30404cf47d0e"
      },
      "source": [
        "a = np.array([[2, 4, 6, 8, 10], \n",
        "              [3, 6, 9, 12, 15], \n",
        "              [4, 8, 12, 16, 20]]) \n",
        "\n",
        "# YOUR CODE HERE\n",
        "print(a[:,1:3])"
      ],
      "execution_count": null,
      "outputs": [
        {
          "output_type": "stream",
          "text": [
            "[[ 4  6]\n",
            " [ 6  9]\n",
            " [ 8 12]]\n"
          ],
          "name": "stdout"
        }
      ]
    },
    {
      "cell_type": "markdown",
      "metadata": {
        "id": "C9ZyeDhBQYpv"
      },
      "source": [
        "###18. For Given Multidimensional array:\n",
        "#### 1.Calculate mean row wise by specifying axis = 0 and column wise by specifying axis =1\n",
        "#### 2. What is the average value of array"
      ]
    },
    {
      "cell_type": "code",
      "metadata": {
        "id": "xfS6nsFlkyDw",
        "colab": {
          "base_uri": "https://localhost:8080/",
          "height": 68
        },
        "outputId": "2d69a964-deec-4812-99d1-ed2ea8b9a997"
      },
      "source": [
        "import numpy as np \n",
        "# 2D array  \n",
        "array = np.array([[2, 4, 6, 8, 10], \n",
        "              [3, 6, 9, 12, 15], \n",
        "              [4, 8, 12, 16, 20]]) \n",
        "\n",
        "\n",
        "#YOUR CODE HERE\n",
        "print(\"mean of arr, axis = 0 : \", np.mean(array, axis = 0))\n",
        "print(\"mean of arr, axis = 1 : \", np.mean(array, axis = 1))\n",
        "np.average(array)"
      ],
      "execution_count": null,
      "outputs": [
        {
          "output_type": "stream",
          "text": [
            "mean of arr, axis = 0 :  [ 3.  6.  9. 12. 15.]\n",
            "mean of arr, axis = 1 :  [ 6.  9. 12.]\n"
          ],
          "name": "stdout"
        },
        {
          "output_type": "execute_result",
          "data": {
            "text/plain": [
              "9.0"
            ]
          },
          "metadata": {
            "tags": []
          },
          "execution_count": 59
        }
      ]
    },
    {
      "cell_type": "markdown",
      "metadata": {
        "id": "iM4ALiSdn5dR"
      },
      "source": [
        "###19. Create an array of all the even numbers from 30 to 70."
      ]
    },
    {
      "cell_type": "code",
      "metadata": {
        "id": "-Nk18AU7n-jG",
        "colab": {
          "base_uri": "https://localhost:8080/",
          "height": 34
        },
        "outputId": "22b20e97-b13b-4dab-f0aa-6013cc230270"
      },
      "source": [
        "#YOUR CODE HERE\n",
        "array=np.arange(30,71,2)\n",
        "print(array)"
      ],
      "execution_count": null,
      "outputs": [
        {
          "output_type": "stream",
          "text": [
            "[30 32 34 36 38 40 42 44 46 48 50 52 54 56 58 60 62 64 66 68 70]\n"
          ],
          "name": "stdout"
        }
      ]
    },
    {
      "cell_type": "markdown",
      "metadata": {
        "id": "4dk-KHVD6AGF"
      },
      "source": [
        "### 20. For the given array, get the slice of the first row and print them."
      ]
    },
    {
      "cell_type": "code",
      "metadata": {
        "id": "igvTymG1HoDi"
      },
      "source": [
        "import numpy as np"
      ],
      "execution_count": null,
      "outputs": []
    },
    {
      "cell_type": "code",
      "metadata": {
        "id": "aQ_1ZMEuGzFE",
        "colab": {
          "base_uri": "https://localhost:8080/",
          "height": 68
        },
        "outputId": "0dd512c6-a6c6-4652-a982-3eee3a54d8fb"
      },
      "source": [
        "a3 = np.array([[[10, 11, 12], [13, 14, 15], [16, 17, 18]],\n",
        "               [[20, 21, 22], [23, 24, 25], [26, 27, 28]],\n",
        "               [[30, 31, 32], [33, 34, 35], [36, 37, 38]]])\n",
        "\n",
        "\n",
        "#YOUR CODE HERE\n",
        "#print(a3)\n",
        "print(a3[0])"
      ],
      "execution_count": null,
      "outputs": [
        {
          "output_type": "stream",
          "text": [
            "[[10 11 12]\n",
            " [13 14 15]\n",
            " [16 17 18]]\n"
          ],
          "name": "stdout"
        }
      ]
    }
  ]
}